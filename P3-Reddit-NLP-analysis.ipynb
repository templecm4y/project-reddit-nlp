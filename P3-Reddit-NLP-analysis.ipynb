{
 "cells": [
  {
   "cell_type": "markdown",
   "metadata": {},
   "source": [
    "## Project 3: Classification Modeling and Natural Language Processing of Reddit posts\n",
    "---"
   ]
  },
  {
   "cell_type": "markdown",
   "metadata": {},
   "source": [
    "### Problem Statement\n",
    "\n",
    "In this project, we were tasked with creating classification models to predict the subreddit of origin based on documents of text scraped from posts on various subreddits. While my initial goal was to use natural language processing techniques to determine the differentiators between the subreddits for the two most popular sports leagues in the United States, the NFL and the NBA. However, after my initial assessment, I wanted to dive deeper, and compare these leagues to their collegiate equivalents to see how they differentiate in their language.\n",
    "\n",
    "My goal in analyzing the language in all four of these subreddits was to determine which topics or trends separate the Reddit discussions of these leagues the most. I will look at the most important word features for each model and asses the performance of each model to draw my conclusions."
   ]
  },
  {
   "cell_type": "markdown",
   "metadata": {},
   "source": [
    "### Contents:\n",
    "- [EDA and Preprocessing](#EDA-and-Preprocessing)\n",
    "- [Multinomial Naive Bayes Model](#Multinomial-Naive-Bayes-Model)\n",
    "- [Support Vector Machine Clssifier](#Support-Vector-Machine-Classifier)\n",
    "- [SVM: r/nba and r/Collegebasketball](#Support-Vector-Machine-Classifier:-r/nba-vs.-r/CollegeBasketball)\n",
    "- [SVM: r/nfl and r/cfb](#Support-Vector-Machine-Classifier:-r/nfl-vs.-r/cfb)"
   ]
  },
  {
   "cell_type": "code",
   "execution_count": 1,
   "metadata": {},
   "outputs": [],
   "source": [
    "# import libraries\n",
    "import numpy as np\n",
    "import matplotlib.pyplot as plt\n",
    "import seaborn as sns\n",
    "import pandas as pd\n",
    "\n",
    "import requests, re\n",
    "\n",
    "from sklearn.linear_model import LogisticRegression\n",
    "from sklearn.feature_extraction.text import CountVectorizer, TfidfVectorizer\n",
    "from sklearn.pipeline import Pipeline\n",
    "from sklearn.model_selection import train_test_split, GridSearchCV\n",
    "from sklearn.svm import SVC\n",
    "from sklearn.naive_bayes import MultinomialNB, GaussianNB\n",
    "from sklearn import metrics\n",
    "from sklearn.metrics import classification_report, confusion_matrix\n",
    "from sklearn.utils.multiclass import unique_labels"
   ]
  },
  {
   "cell_type": "code",
   "execution_count": 2,
   "metadata": {},
   "outputs": [],
   "source": [
    "# import subreddit data\n",
    "cbb_df = pd.read_csv('./data/cbb_subreddit_data.csv')\n",
    "cfb_df = pd.read_csv('./data/cfb_subreddit_data.csv')\n",
    "nba_df = pd.read_csv('./data/nba_subreddit_data.csv')\n",
    "nfl_df = pd.read_csv('./data/nfl_subreddit_data.csv')"
   ]
  },
  {
   "cell_type": "markdown",
   "metadata": {},
   "source": [
    "## EDA and Preprocessing\n",
    "---"
   ]
  },
  {
   "cell_type": "code",
   "execution_count": 3,
   "metadata": {
    "scrolled": true
   },
   "outputs": [
    {
     "name": "stdout",
     "output_type": "stream",
     "text": [
      "(1995, 104)\n",
      "(1984, 103)\n",
      "(2759, 100)\n",
      "(2976, 100)\n"
     ]
    }
   ],
   "source": [
    "# check shape of dataframes\n",
    "print(cbb_df.shape)\n",
    "print(cfb_df.shape)\n",
    "print(nba_df.shape)\n",
    "print(nfl_df.shape)"
   ]
  },
  {
   "cell_type": "code",
   "execution_count": 4,
   "metadata": {},
   "outputs": [],
   "source": [
    "# define function to combine two subsets of columns\n",
    "# fills NaN's with null strings to ensure compatability\n",
    "def combine_text(df, cols):\n",
    "    for col in cols:\n",
    "        df[col] = df[col].fillna(value = \"\")\n",
    "    return df[cols].apply(lambda x: ''.join(x), axis=1)"
   ]
  },
  {
   "cell_type": "code",
   "execution_count": 6,
   "metadata": {
    "scrolled": true
   },
   "outputs": [],
   "source": [
    "# run combine text on politics posts\n",
    "cbb_df['text'] = combine_text(cbb_df, ['title', 'selftext'])"
   ]
  },
  {
   "cell_type": "code",
   "execution_count": 7,
   "metadata": {
    "scrolled": true
   },
   "outputs": [],
   "source": [
    "# run combine text on politics posts\n",
    "cfb_df['text'] = combine_text(cfb_df, ['title', 'selftext'])"
   ]
  },
  {
   "cell_type": "code",
   "execution_count": 8,
   "metadata": {},
   "outputs": [],
   "source": [
    "# run combine text on nfl posts\n",
    "nfl_df['text'] = combine_text(nfl_df, ['title', 'selftext'])"
   ]
  },
  {
   "cell_type": "code",
   "execution_count": 9,
   "metadata": {
    "scrolled": true
   },
   "outputs": [],
   "source": [
    "# run combine text on nba posts\n",
    "nba_df['text'] = combine_text(nba_df, ['title', 'selftext'])"
   ]
  },
  {
   "cell_type": "code",
   "execution_count": 10,
   "metadata": {},
   "outputs": [],
   "source": [
    "# reshape dataframes to only include text, name, and subreddit columns\n",
    "nba_df = nba_df[['text', 'name', 'subreddit']]\n",
    "nfl_df = nfl_df[['text', 'name', 'subreddit']]\n",
    "cbb_df = cbb_df[['text', 'name', 'subreddit']]\n",
    "cfb_df = cfb_df[['text', 'name', 'subreddit']]"
   ]
  },
  {
   "cell_type": "code",
   "execution_count": 11,
   "metadata": {},
   "outputs": [],
   "source": [
    "# drop duplicate posts based on the post name ID\n",
    "nba_df = nba_df.drop_duplicates(subset=['name'])\n",
    "cfb_df = cfb_df.drop_duplicates(subset=['name'])\n",
    "cbb_df = cbb_df.drop_duplicates(subset=['name'])\n",
    "nfl_df = nfl_df.drop_duplicates(subset=['name'])"
   ]
  },
  {
   "cell_type": "code",
   "execution_count": 12,
   "metadata": {},
   "outputs": [],
   "source": [
    "# concat the nfl and nba dataframes\n",
    "reddit = pd.concat([nfl_df, nba_df], ignore_index=True)"
   ]
  },
  {
   "cell_type": "code",
   "execution_count": 13,
   "metadata": {},
   "outputs": [],
   "source": [
    "# concat the nfl and nba dataframes\n",
    "reddit_bb = pd.concat([cbb_df, nba_df], ignore_index=True)"
   ]
  },
  {
   "cell_type": "code",
   "execution_count": 14,
   "metadata": {},
   "outputs": [],
   "source": [
    "# concat the nfl and nba dataframes\n",
    "reddit_fb = pd.concat([cfb_df, nfl_df], ignore_index=True)"
   ]
  },
  {
   "cell_type": "code",
   "execution_count": 15,
   "metadata": {
    "scrolled": true
   },
   "outputs": [],
   "source": [
    "# define function to run same regex over a dataframe\n",
    "def sub_preprocess(sub):\n",
    "    # run regex to remove urls\n",
    "    sub['text'] = sub['text'].map(lambda x: re.sub(r\"((http|ftp|https):\\/\\/)?[\\w\\-_]+(\\.[\\w\\-_]+)+([\\w\\-\\.,@?^=%&amp;:/~\\+#]*[\\w\\-\\@?^=%&amp;/~\\+#])?\", ' ', x))\n",
    "\n",
    "    # run regex to remove certain characters\n",
    "    sub['text'] = sub['text'].map(lambda x: re.sub(r\"[@\\?\\.$%_\\[\\]()+-:*\\\"]\", ' ', x, flags=re.I))\n",
    "    sub['text'] = sub['text'].map(lambda x: re.sub(r\"[,']\", '', x, flags=re.I))\n",
    "    sub['text'] = sub['text'].map(lambda x: re.sub(\"(?<![\\w'])\\w+?(?=\\b|'s)\", ' ', x))\n",
    "\n",
    "    # run regex to remove line breaks and tabs\n",
    "    sub['text'] = sub['text'].map(lambda x: re.sub(r\"\\s+\", ' ', x))\n",
    "\n",
    "    # run regex to remove common words\n",
    "    sub['text'] = sub['text'].map(lambda x: re.sub('(nfl|nba|college|ncaa|team|game|season|year|player|thread|just|like|time|new)[s]?', ' ', x,  flags=re.I))   "
   ]
  },
  {
   "cell_type": "code",
   "execution_count": 16,
   "metadata": {},
   "outputs": [],
   "source": [
    "# run the regex function on our dataframes\n",
    "sub_preprocess(reddit_bb)\n",
    "sub_preprocess(reddit_fb)\n",
    "sub_preprocess(reddit)"
   ]
  },
  {
   "cell_type": "code",
   "execution_count": 17,
   "metadata": {
    "scrolled": false
   },
   "outputs": [
    {
     "data": {
      "text/plain": [
       "1    0.535724\n",
       "0    0.464276\n",
       "Name: is_nba, dtype: float64"
      ]
     },
     "execution_count": 17,
     "metadata": {},
     "output_type": "execute_result"
    }
   ],
   "source": [
    "# create new columns for our predicted variable, normalize value counts to get the baseline score\n",
    "reddit['is_nba'] = reddit['subreddit'].map({'nba': 1, 'nfl': 0})\n",
    "reddit['is_nba'].value_counts(normalize=True)"
   ]
  },
  {
   "cell_type": "code",
   "execution_count": 18,
   "metadata": {
    "scrolled": false
   },
   "outputs": [
    {
     "data": {
      "text/plain": [
       "1    0.522422\n",
       "0    0.477578\n",
       "Name: is_nba, dtype: float64"
      ]
     },
     "execution_count": 18,
     "metadata": {},
     "output_type": "execute_result"
    }
   ],
   "source": [
    "# create new columns for our predicted variable, normalize value counts to get the baseline score\n",
    "reddit_bb['is_nba'] = reddit_bb['subreddit'].map({'nba': 1, 'CollegeBasketball': 0})\n",
    "reddit_bb['is_nba'].value_counts(normalize=True)"
   ]
  },
  {
   "cell_type": "code",
   "execution_count": 19,
   "metadata": {
    "scrolled": false
   },
   "outputs": [
    {
     "data": {
      "text/plain": [
       "0    0.510143\n",
       "1    0.489857\n",
       "Name: is_nfl, dtype: float64"
      ]
     },
     "execution_count": 19,
     "metadata": {},
     "output_type": "execute_result"
    }
   ],
   "source": [
    "# create new columns for our predicted variable, normalize value counts to get the baseline score\n",
    "reddit_fb['is_nfl'] = reddit_fb['subreddit'].map({'nfl': 1, 'CFB': 0})\n",
    "reddit_fb['is_nfl'].value_counts(normalize=True)"
   ]
  },
  {
   "cell_type": "code",
   "execution_count": 20,
   "metadata": {},
   "outputs": [
    {
     "data": {
      "text/plain": [
       "Index(['text', 'name', 'subreddit', 'is_nba'], dtype='object')"
      ]
     },
     "execution_count": 20,
     "metadata": {},
     "output_type": "execute_result"
    }
   ],
   "source": [
    "reddit.columns"
   ]
  },
  {
   "cell_type": "markdown",
   "metadata": {},
   "source": [
    "## Confusion Matrix Function"
   ]
  },
  {
   "cell_type": "code",
   "execution_count": 21,
   "metadata": {},
   "outputs": [],
   "source": [
    "# function to visualize confusion matrix\n",
    "# Source code from SkLearn documentation\n",
    "# https://scikit-learn.org/stable/auto_examples/model_selection/plot_confusion_matrix.html\n",
    "\n",
    "def plot_confusion_matrix(y_true, y_pred, classes,\n",
    "                          normalize=False,\n",
    "                          title=None,\n",
    "                          cmap=plt.cm.Blues):\n",
    "#     This function prints and plots the confusion matrix.\n",
    "#     Normalization can be applied by setting `normalize=True`.\n",
    "\n",
    "    if not title:\n",
    "        if normalize:\n",
    "            title = 'Normalized confusion matrix'\n",
    "        else:\n",
    "            title = 'Confusion matrix, without normalization'\n",
    "\n",
    "    # Compute confusion matrix\n",
    "    cm = metrics.confusion_matrix(y_true, y_pred)\n",
    "    # Only use the labels that appear in the data\n",
    "    classes = classes[unique_labels(y_true, y_pred)]\n",
    "    if normalize:\n",
    "        cm = cm.astype('float') / cm.sum(axis=1)[:, np.newaxis]\n",
    "        print(\"Normalized confusion matrix\")\n",
    "    else:\n",
    "        print('Confusion matrix, without normalization')\n",
    "\n",
    "    print(cm)\n",
    "\n",
    "    fig, ax = plt.subplots()\n",
    "    im = ax.imshow(cm, interpolation='nearest', cmap=cmap)\n",
    "    ax.figure.colorbar(im, ax=ax)\n",
    "    # We want to show all ticks...\n",
    "    ax.set(xticks=np.arange(cm.shape[1]),\n",
    "           yticks=np.arange(cm.shape[0]),\n",
    "           # ... and label them with the respective list entries\n",
    "           xticklabels=classes, yticklabels=classes,\n",
    "           title=title,\n",
    "           ylabel='True label',\n",
    "           xlabel='Predicted label')\n",
    "\n",
    "    # Rotate the tick labels and set their alignment.\n",
    "    plt.setp(ax.get_xticklabels(), rotation=45, ha=\"right\",\n",
    "             rotation_mode=\"anchor\")\n",
    "\n",
    "    # Loop over data dimensions and create text annotations.\n",
    "    fmt = '.2f' if normalize else 'd'\n",
    "    thresh = cm.max() / 2.\n",
    "    for i in range(cm.shape[0]):\n",
    "        for j in range(cm.shape[1]):\n",
    "            ax.text(j, i, format(cm[i, j], fmt),\n",
    "                    ha=\"center\", va=\"center\",\n",
    "                    color=\"white\" if cm[i, j] > thresh else \"black\")\n",
    "    fig.tight_layout()\n",
    "    return ax"
   ]
  },
  {
   "cell_type": "markdown",
   "metadata": {},
   "source": [
    "## Multinomial Naive Bayes Model\n",
    "---\n",
    "\n",
    "In this section, I run a Multinomial Naive Bayes (NB) model with both a Count Vectorizer and a TF-IDF Vectorizer. I used ScikitLearn's GridSearch Cross Validation to find the optimal hyperparamters for each model, and ran the models again with the optimal hyperparameters.\n",
    "\n",
    "Overall, both models performed very well, but the NB using a Count Vectorizer performed the best, with accuracy score of 95.33% on the testing data and a weighted accuracy of 94%. \n",
    "\n",
    "The TF-IDF Vectorized model wasn't quite as accurate, but still posted an accuracy score of 93.76% on the testting set and a weighted precision of 94%."
   ]
  },
  {
   "cell_type": "markdown",
   "metadata": {},
   "source": [
    "#### Multinomial Naive Bayes and TF-IDF Vectorizer\n",
    "---"
   ]
  },
  {
   "cell_type": "code",
   "execution_count": 22,
   "metadata": {},
   "outputs": [],
   "source": [
    "# train/test split our data\n",
    "X = reddit['text']\n",
    "y = reddit['is_nba']\n",
    "\n",
    "X_train, X_test, y_train, y_test = train_test_split(X, y, stratify=y, random_state=42)"
   ]
  },
  {
   "cell_type": "code",
   "execution_count": 23,
   "metadata": {},
   "outputs": [],
   "source": [
    "# instantiate pipeline\n",
    "tfidf_pipe = Pipeline([\n",
    "    ('tfidf', TfidfVectorizer()),\n",
    "    ('nb', MultinomialNB())\n",
    "])"
   ]
  },
  {
   "cell_type": "code",
   "execution_count": 24,
   "metadata": {},
   "outputs": [],
   "source": [
    "# define gridsearch hyperparameters\n",
    "tfidf_params = {\n",
    "    'tfidf__max_features': [2000, 5000, 10000, 20000],\n",
    "    'tfidf__ngram_range': [(1,1), (1,2)],\n",
    "    'tfidf__max_df': [.60, .75, .90],\n",
    "    'tfidf__stop_words': [None, 'english']\n",
    "}"
   ]
  },
  {
   "cell_type": "code",
   "execution_count": null,
   "metadata": {
    "scrolled": false
   },
   "outputs": [],
   "source": [
    "# run gridsearch\n",
    "tfidf_gs = GridSearchCV(tfidf_pipe, param_grid=tfidf_params, cv=3, n_jobs=4)\n",
    "tfidf_gs.fit(X_train, y_train)\n",
    "\n",
    "# display best hyperparameters\n",
    "tfidf_gs.best_params_"
   ]
  },
  {
   "cell_type": "code",
   "execution_count": null,
   "metadata": {},
   "outputs": [],
   "source": [
    "# check score from training data\n",
    "tfidf_gs.score(X_train, y_train)"
   ]
  },
  {
   "cell_type": "code",
   "execution_count": null,
   "metadata": {
    "scrolled": true
   },
   "outputs": [],
   "source": [
    "# check score from predictions on testing data\n",
    "y_pred_class = tfidf_gs.predict(X_test)\n",
    "metrics.accuracy_score(y_test, y_pred_class)"
   ]
  },
  {
   "cell_type": "markdown",
   "metadata": {},
   "source": [
    "#### Multinomial Naive Bayes and Count Vectorizer\n",
    "---"
   ]
  },
  {
   "cell_type": "code",
   "execution_count": null,
   "metadata": {},
   "outputs": [],
   "source": [
    "# instantiate pipeline\n",
    "cvec_pipe = Pipeline([\n",
    "    ('cvec', CountVectorizer()),\n",
    "    ('nb', MultinomialNB())\n",
    "])"
   ]
  },
  {
   "cell_type": "code",
   "execution_count": null,
   "metadata": {},
   "outputs": [],
   "source": [
    "# define gridsearch parameters\n",
    "cvec_params = {\n",
    "    'cvec__max_features': [2000, 5000, 10000, 20000],\n",
    "    'cvec__ngram_range': [(1,1), (1,2)],\n",
    "    'cvec__max_df': [.60, .75, .95],\n",
    "    'cvec__stop_words': [None, 'english']\n",
    "}"
   ]
  },
  {
   "cell_type": "code",
   "execution_count": null,
   "metadata": {
    "scrolled": false
   },
   "outputs": [],
   "source": [
    "# run gridsearch\n",
    "cvec_gs = GridSearchCV(cvec_pipe, param_grid=cvec_params, cv=3, n_jobs=4)\n",
    "cvec_gs.fit(X_train, y_train)\n",
    "\n",
    "# display best hyperparameters\n",
    "cvec_gs.best_params_"
   ]
  },
  {
   "cell_type": "code",
   "execution_count": null,
   "metadata": {},
   "outputs": [],
   "source": [
    "# check score from training data\n",
    "cvec_gs.score(X_train, y_train)"
   ]
  },
  {
   "cell_type": "code",
   "execution_count": null,
   "metadata": {
    "scrolled": false
   },
   "outputs": [],
   "source": [
    "# check score from predictions on testing data\n",
    "y_pred_class = cvec_gs.predict(X_test)\n",
    "metrics.accuracy_score(y_test, y_pred_class)"
   ]
  },
  {
   "cell_type": "markdown",
   "metadata": {},
   "source": [
    "#### Visualizations and Analysis: TF-IDF with Multinomial Naive Bayes, using best hyperparameters\n",
    "---\n",
    "\n",
    "The TF-IDF model posted an accuracy score of 93.39% on the testing set with a weighted accuracy of 94%. This model correctly predicted whether a post was in r/nfl 98% of the time, and r/nba 91%.\n",
    "\n",
    "The most important words for the model in classifying a post from r/nba referenced free agency moves like \"westbrook\", \"kawhi\", \"lebron\", while the most important words in classfying a post from r/nfl were terms found in discussions about the actual football game, like \"highlight\", \"yard\", and \"td\"."
   ]
  },
  {
   "cell_type": "code",
   "execution_count": 25,
   "metadata": {},
   "outputs": [],
   "source": [
    "# use the parameters found in the gridsearch\n",
    "tfidf = TfidfVectorizer(stop_words='english', ngram_range=(1, 2), max_features=10000, max_df=0.60)"
   ]
  },
  {
   "cell_type": "code",
   "execution_count": 26,
   "metadata": {
    "scrolled": true
   },
   "outputs": [],
   "source": [
    "# run the TF-IDF vectorized model with optimal parameters\n",
    "train_raw = tfidf.fit_transform(X_train)\n",
    "train_df = pd.SparseDataFrame(train_raw, columns=tfidf.get_feature_names())\n",
    "\n",
    "test_raw = tfidf.transform(X_test)\n",
    "test_df = pd.SparseDataFrame(test_raw, columns=tfidf.get_feature_names())\n",
    "\n",
    "train_df.fillna(0, inplace=True)\n",
    "test_df.fillna(0, inplace=True)"
   ]
  },
  {
   "cell_type": "code",
   "execution_count": 27,
   "metadata": {
    "scrolled": true
   },
   "outputs": [
    {
     "data": {
      "text/plain": [
       "MultinomialNB(alpha=1.0, class_prior=None, fit_prior=True)"
      ]
     },
     "execution_count": 27,
     "metadata": {},
     "output_type": "execute_result"
    }
   ],
   "source": [
    "tfidf_nb = MultinomialNB()\n",
    "tfidf_nb.fit(train_df, y_train)"
   ]
  },
  {
   "cell_type": "code",
   "execution_count": 28,
   "metadata": {},
   "outputs": [
    {
     "data": {
      "text/plain": [
       "0.9397715472481828"
      ]
     },
     "execution_count": 28,
     "metadata": {},
     "output_type": "execute_result"
    }
   ],
   "source": [
    "# score model on testing set\n",
    "tfidf_nb.score(test_raw, y_test)"
   ]
  },
  {
   "cell_type": "code",
   "execution_count": 29,
   "metadata": {
    "scrolled": true
   },
   "outputs": [],
   "source": [
    "# define fucntion to determine the most useful features for  Multinomial NB classifiers\n",
    "def nb_features(vectorizer, classifier, n=20, class_labels=[0, 1]):\n",
    "    \n",
    "    # get list of feature names from the vectorizor\n",
    "    feature_names = vectorizer.get_feature_names()\n",
    "    \n",
    "    # two lists of tuples that contain the log probability from the classifier\n",
    "    # tie it to the corresponding feature names, sort the list by highest log probability\n",
    "    top_class0 = sorted(zip(classifier.feature_log_prob_[0], feature_names), reverse=True)[:n]\n",
    "    top_class1 = sorted(zip(classifier.feature_log_prob_[1], feature_names), reverse=True)[:n]\n",
    "    # credit to Sai Sandeep on StackOverflow for giving the basis for the zip method of tying names and counts together\n",
    "    \n",
    "    print(f\"Important words in classifying posts for {class_labels[0]}\")\n",
    "    \n",
    "    # print label, the exponential of the log probability,  and the feature names\n",
    "    for prob, feat in top_class0:\n",
    "        print(class_labels[0], np.exp(prob), feat)\n",
    "\n",
    "    print(\" \")\n",
    "    print(\" \")\n",
    "    print(f\"Important words in classifying posts for {class_labels[1]}\")\n",
    "\n",
    "    for prob, feat in top_class1:\n",
    "        print(class_labels[1], np.exp(prob), feat)"
   ]
  },
  {
   "cell_type": "code",
   "execution_count": 30,
   "metadata": {
    "scrolled": true
   },
   "outputs": [
    {
     "name": "stdout",
     "output_type": "stream",
     "text": [
      "Important words in classifying posts for r/nfl\n",
      "r/nfl 0.00199096438017571 highlight\n",
      "r/nfl 0.0012183280562030698 qb\n",
      "r/nfl 0.001162659102439336 yards\n",
      "r/nfl 0.0011079726642718535 browns\n",
      "r/nfl 0.0010848559871524553 bowl\n",
      "r/nfl 0.0010460370130334338 patriots\n",
      "r/nfl 0.0009954515768307612 td\n",
      "r/nfl 0.0009728242417250785 super\n",
      "r/nfl 0.000924483355958119 super bowl\n",
      "r/nfl 0.0009026869915810785 best\n",
      "r/nfl 0.0008618936674885273 day\n",
      "r/nfl 0.0008323756448570636 pick\n",
      "r/nfl 0.0008284419070066697 brady\n",
      "r/nfl 0.0008097690613953096 football\n",
      "r/nfl 0.0007981834488826579 yard\n",
      "r/nfl 0.000797064483028153 draft\n",
      "r/nfl 0.0007634036274632053 today\n",
      "r/nfl 0.0007564432957503686 wr\n",
      "r/nfl 0.0007555563648761836 pass\n",
      "r/nfl 0.000740498416644244 round\n",
      " \n",
      " \n",
      "Important words in classifying posts for r/nba\n",
      "r/nba 0.0018053611624839843 kawhi\n",
      "r/nba 0.00160511303723205 westbrook\n",
      "r/nba 0.0015325461500301175 lebron\n",
      "r/nba 0.0014823974451679174 lakers\n",
      "r/nba 0.001395116727764982 clippers\n",
      "r/nba 0.0013646935998835783 trade\n",
      "r/nba 0.001343237265998554 league\n",
      "r/nba 0.0010738606610963153 paul\n",
      "r/nba 0.0010554171758820829 warriors\n",
      "r/nba 0.0010541023567910833 raptors\n",
      "r/nba 0.0010333138714813575 think\n",
      "r/nba 0.0009920374506997883 free\n",
      "r/nba 0.000985718980981181 okc\n",
      "r/nba 0.0009622635079850579 deal\n",
      "r/nba 0.0009292767316623485 best\n",
      "r/nba 0.0008912625323650049 james\n",
      "r/nba 0.0008874404781026257 leonard\n",
      "r/nba 0.0008645915383431215 amp\n",
      "r/nba 0.0008563935143355751 russell\n",
      "r/nba 0.0008365136590550614 vs\n"
     ]
    }
   ],
   "source": [
    "nb_features(tfidf, tfidf_nb, class_labels=['r/nfl', 'r/nba'])"
   ]
  },
  {
   "cell_type": "code",
   "execution_count": 31,
   "metadata": {},
   "outputs": [],
   "source": [
    "# create dataframes for plotting NB results\n",
    "# note that exponential is taken from the log probability to get the actual probability for each feature\n",
    "nb_feat_importance_nfl = pd.DataFrame(np.exp(tfidf_nb.feature_log_prob_[0]), train_df.columns, columns=['probability'])\n",
    "nb_feat_importance_nba = pd.DataFrame(np.exp(tfidf_nb.feature_log_prob_[1]), train_df.columns, columns=['probability'])"
   ]
  },
  {
   "cell_type": "code",
   "execution_count": 32,
   "metadata": {
    "scrolled": false
   },
   "outputs": [
    {
     "data": {
      "image/png": "[encoded data removed]",
      "text/plain": [
       "<Figure size 1440x720 with 1 Axes>"
      ]
     },
     "metadata": {
      "needs_background": "light"
     },
     "output_type": "display_data"
    }
   ],
   "source": [
    "# plot the results from the NB dataframes\n",
    "plt.figure(figsize=(20,10))\n",
    "nfl = nb_feat_importance_nfl.sort_values('probability', ascending=False).head(10)\n",
    "nba = nb_feat_importance_nba.sort_values('probability', ascending=False).head(10)\n",
    "\n",
    "plt.barh(nfl.index, nfl['probability'], color='darkblue')\n",
    "plt.barh(nba.index, nba['probability'], color='darkorange')\n",
    "plt.yticks(size=16)\n",
    "\n",
    "plt.title('Top 10 Features', fontsize=30)\n",
    "plt.xlabel('Probability', fontsize=20)\n",
    "plt.ylabel('Feature', fontsize=20);"
   ]
  },
  {
   "cell_type": "code",
   "execution_count": 33,
   "metadata": {},
   "outputs": [],
   "source": [
    "nb_counts_nfl = pd.DataFrame(tfidf_nb.feature_count_[0], train_df.columns, columns=['weighted_count'])\n",
    "nb_counts_nba = pd.DataFrame(tfidf_nb.feature_count_[1], train_df.columns, columns=['weighted_count'])"
   ]
  },
  {
   "cell_type": "code",
   "execution_count": 34,
   "metadata": {
    "scrolled": false
   },
   "outputs": [
    {
     "data": {
      "text/html": [
       "<div>\n",
       "<style scoped>\n",
       "    .dataframe tbody tr th:only-of-type {\n",
       "        vertical-align: middle;\n",
       "    }\n",
       "\n",
       "    .dataframe tbody tr th {\n",
       "        vertical-align: top;\n",
       "    }\n",
       "\n",
       "    .dataframe thead th {\n",
       "        text-align: right;\n",
       "    }\n",
       "</style>\n",
       "<table border=\"1\" class=\"dataframe\">\n",
       "  <thead>\n",
       "    <tr style=\"text-align: right;\">\n",
       "      <th></th>\n",
       "      <th>weighted_count</th>\n",
       "    </tr>\n",
       "  </thead>\n",
       "  <tbody>\n",
       "    <tr>\n",
       "      <th>kawhi</th>\n",
       "      <td>28.959956</td>\n",
       "    </tr>\n",
       "    <tr>\n",
       "      <th>westbrook</th>\n",
       "      <td>25.636839</td>\n",
       "    </tr>\n",
       "    <tr>\n",
       "      <th>lebron</th>\n",
       "      <td>24.432592</td>\n",
       "    </tr>\n",
       "    <tr>\n",
       "      <th>lakers</th>\n",
       "      <td>23.600375</td>\n",
       "    </tr>\n",
       "    <tr>\n",
       "      <th>clippers</th>\n",
       "      <td>22.151952</td>\n",
       "    </tr>\n",
       "    <tr>\n",
       "      <th>trade</th>\n",
       "      <td>21.647081</td>\n",
       "    </tr>\n",
       "    <tr>\n",
       "      <th>league</th>\n",
       "      <td>21.291013</td>\n",
       "    </tr>\n",
       "    <tr>\n",
       "      <th>paul</th>\n",
       "      <td>16.820710</td>\n",
       "    </tr>\n",
       "    <tr>\n",
       "      <th>warriors</th>\n",
       "      <td>16.514640</td>\n",
       "    </tr>\n",
       "    <tr>\n",
       "      <th>raptors</th>\n",
       "      <td>16.492821</td>\n",
       "    </tr>\n",
       "    <tr>\n",
       "      <th>think</th>\n",
       "      <td>16.147836</td>\n",
       "    </tr>\n",
       "    <tr>\n",
       "      <th>free</th>\n",
       "      <td>15.462854</td>\n",
       "    </tr>\n",
       "    <tr>\n",
       "      <th>okc</th>\n",
       "      <td>15.357999</td>\n",
       "    </tr>\n",
       "    <tr>\n",
       "      <th>deal</th>\n",
       "      <td>14.968756</td>\n",
       "    </tr>\n",
       "    <tr>\n",
       "      <th>best</th>\n",
       "      <td>14.421341</td>\n",
       "    </tr>\n",
       "    <tr>\n",
       "      <th>james</th>\n",
       "      <td>13.790495</td>\n",
       "    </tr>\n",
       "    <tr>\n",
       "      <th>leonard</th>\n",
       "      <td>13.727068</td>\n",
       "    </tr>\n",
       "    <tr>\n",
       "      <th>amp</th>\n",
       "      <td>13.347890</td>\n",
       "    </tr>\n",
       "    <tr>\n",
       "      <th>russell</th>\n",
       "      <td>13.211844</td>\n",
       "    </tr>\n",
       "    <tr>\n",
       "      <th>vs</th>\n",
       "      <td>12.881938</td>\n",
       "    </tr>\n",
       "  </tbody>\n",
       "</table>\n",
       "</div>"
      ],
      "text/plain": [
       "           weighted_count\n",
       "kawhi           28.959956\n",
       "westbrook       25.636839\n",
       "lebron          24.432592\n",
       "lakers          23.600375\n",
       "clippers        22.151952\n",
       "trade           21.647081\n",
       "league          21.291013\n",
       "paul            16.820710\n",
       "warriors        16.514640\n",
       "raptors         16.492821\n",
       "think           16.147836\n",
       "free            15.462854\n",
       "okc             15.357999\n",
       "deal            14.968756\n",
       "best            14.421341\n",
       "james           13.790495\n",
       "leonard         13.727068\n",
       "amp             13.347890\n",
       "russell         13.211844\n",
       "vs              12.881938"
      ]
     },
     "execution_count": 34,
     "metadata": {},
     "output_type": "execute_result"
    }
   ],
   "source": [
    "nb_counts_nba.sort_values(by=['weighted_count'], ascending=False).head(20)"
   ]
  },
  {
   "cell_type": "code",
   "execution_count": 35,
   "metadata": {
    "scrolled": false
   },
   "outputs": [
    {
     "data": {
      "text/html": [
       "<div>\n",
       "<style scoped>\n",
       "    .dataframe tbody tr th:only-of-type {\n",
       "        vertical-align: middle;\n",
       "    }\n",
       "\n",
       "    .dataframe tbody tr th {\n",
       "        vertical-align: top;\n",
       "    }\n",
       "\n",
       "    .dataframe thead th {\n",
       "        text-align: right;\n",
       "    }\n",
       "</style>\n",
       "<table border=\"1\" class=\"dataframe\">\n",
       "  <thead>\n",
       "    <tr style=\"text-align: right;\">\n",
       "      <th></th>\n",
       "      <th>weighted_count</th>\n",
       "    </tr>\n",
       "  </thead>\n",
       "  <tbody>\n",
       "    <tr>\n",
       "      <th>highlight</th>\n",
       "      <td>28.960909</td>\n",
       "    </tr>\n",
       "    <tr>\n",
       "      <th>qb</th>\n",
       "      <td>17.333937</td>\n",
       "    </tr>\n",
       "    <tr>\n",
       "      <th>yards</th>\n",
       "      <td>16.496206</td>\n",
       "    </tr>\n",
       "    <tr>\n",
       "      <th>browns</th>\n",
       "      <td>15.673261</td>\n",
       "    </tr>\n",
       "    <tr>\n",
       "      <th>bowl</th>\n",
       "      <td>15.325391</td>\n",
       "    </tr>\n",
       "    <tr>\n",
       "      <th>patriots</th>\n",
       "      <td>14.741226</td>\n",
       "    </tr>\n",
       "    <tr>\n",
       "      <th>td</th>\n",
       "      <td>13.979994</td>\n",
       "    </tr>\n",
       "    <tr>\n",
       "      <th>super</th>\n",
       "      <td>13.639488</td>\n",
       "    </tr>\n",
       "    <tr>\n",
       "      <th>super bowl</th>\n",
       "      <td>12.912033</td>\n",
       "    </tr>\n",
       "    <tr>\n",
       "      <th>best</th>\n",
       "      <td>12.584032</td>\n",
       "    </tr>\n",
       "    <tr>\n",
       "      <th>day</th>\n",
       "      <td>11.970156</td>\n",
       "    </tr>\n",
       "    <tr>\n",
       "      <th>pick</th>\n",
       "      <td>11.525955</td>\n",
       "    </tr>\n",
       "    <tr>\n",
       "      <th>brady</th>\n",
       "      <td>11.466759</td>\n",
       "    </tr>\n",
       "    <tr>\n",
       "      <th>football</th>\n",
       "      <td>11.185762</td>\n",
       "    </tr>\n",
       "    <tr>\n",
       "      <th>yard</th>\n",
       "      <td>11.011416</td>\n",
       "    </tr>\n",
       "    <tr>\n",
       "      <th>draft</th>\n",
       "      <td>10.994578</td>\n",
       "    </tr>\n",
       "    <tr>\n",
       "      <th>today</th>\n",
       "      <td>10.488034</td>\n",
       "    </tr>\n",
       "    <tr>\n",
       "      <th>wr</th>\n",
       "      <td>10.383292</td>\n",
       "    </tr>\n",
       "    <tr>\n",
       "      <th>pass</th>\n",
       "      <td>10.369945</td>\n",
       "    </tr>\n",
       "    <tr>\n",
       "      <th>round</th>\n",
       "      <td>10.143346</td>\n",
       "    </tr>\n",
       "  </tbody>\n",
       "</table>\n",
       "</div>"
      ],
      "text/plain": [
       "            weighted_count\n",
       "highlight        28.960909\n",
       "qb               17.333937\n",
       "yards            16.496206\n",
       "browns           15.673261\n",
       "bowl             15.325391\n",
       "patriots         14.741226\n",
       "td               13.979994\n",
       "super            13.639488\n",
       "super bowl       12.912033\n",
       "best             12.584032\n",
       "day              11.970156\n",
       "pick             11.525955\n",
       "brady            11.466759\n",
       "football         11.185762\n",
       "yard             11.011416\n",
       "draft            10.994578\n",
       "today            10.488034\n",
       "wr               10.383292\n",
       "pass             10.369945\n",
       "round            10.143346"
      ]
     },
     "execution_count": 35,
     "metadata": {},
     "output_type": "execute_result"
    }
   ],
   "source": [
    "nb_counts_nfl.sort_values(by=['weighted_count'], ascending=False).head(20)"
   ]
  },
  {
   "cell_type": "code",
   "execution_count": 36,
   "metadata": {},
   "outputs": [],
   "source": [
    "# define function to create confusion matrix and classification report\n",
    "def make_cm(model, X, y, names):\n",
    "    \n",
    "    #get predictions from the model and plot the against the actual values in a confusion matrix\n",
    "    y_pred = model.predict(X)\n",
    "    cm = confusion_matrix(y, y_pred)\n",
    "    \n",
    "    # convert confusion matrix to dataframe\n",
    "    cols = ['pred_' + c for c in names]\n",
    "    dfcm = pd.DataFrame(cm, columns=cols, index=names)\n",
    "    \n",
    "    # print confusion matrix and classification report\n",
    "    print(dfcm)\n",
    "    print(\"--------------------------------------------------------------------------------\")\n",
    "    print(classification_report(y, y_pred))\n",
    "    \n",
    "    # credit adi brohstein for the basis for this code"
   ]
  },
  {
   "cell_type": "code",
   "execution_count": 37,
   "metadata": {
    "scrolled": false
   },
   "outputs": [
    {
     "name": "stdout",
     "output_type": "stream",
     "text": [
      "       pred_r/nfl  pred_r/nba\n",
      "r/nfl         399          48\n",
      "r/nba          10         506\n",
      "--------------------------------------------------------------------------------\n",
      "              precision    recall  f1-score   support\n",
      "\n",
      "           0       0.98      0.89      0.93       447\n",
      "           1       0.91      0.98      0.95       516\n",
      "\n",
      "    accuracy                           0.94       963\n",
      "   macro avg       0.94      0.94      0.94       963\n",
      "weighted avg       0.94      0.94      0.94       963\n",
      "\n"
     ]
    }
   ],
   "source": [
    "# run confusion matrix function\n",
    "make_cm(tfidf_nb, test_raw, y_test, ['r/nfl', 'r/nba'])"
   ]
  },
  {
   "cell_type": "code",
   "execution_count": 38,
   "metadata": {},
   "outputs": [
    {
     "name": "stdout",
     "output_type": "stream",
     "text": [
      "Confusion matrix, without normalization\n",
      "[[399  48]\n",
      " [ 10 506]]\n"
     ]
    },
    {
     "data": {
      "image/png": "[encoded data removed]",
      "text/plain": [
       "<Figure size 432x288 with 2 Axes>"
      ]
     },
     "metadata": {
      "needs_background": "light"
     },
     "output_type": "display_data"
    }
   ],
   "source": [
    "# set decimal places for numpy functions\n",
    "np.set_printoptions(precision=2)\n",
    "\n",
    "#define class names\n",
    "class_names=np.array(['r/NFL', 'r/NBA'])\n",
    "\n",
    "# generate predictions\n",
    "y_pred = tfidf_nb.predict(test_raw)\n",
    "\n",
    "# Plot non-normalized confusion matrix\n",
    "plot_confusion_matrix(y_test, y_pred, classes=class_names,\n",
    "                      title='Confusion matrix, without normalization',\n",
    "                     cmap='YlGnBu')\n",
    "\n",
    "\n",
    "plt.show();"
   ]
  },
  {
   "cell_type": "markdown",
   "metadata": {},
   "source": [
    "#### Visualizations and Analysis: Count Vectorizer with Mulitnomial Naive Bayes, using best hyperparameters\n",
    "---\n",
    "\n",
    "The Count Vectorized model posted an accuracy score of 95.37% on the testing set with a weighted accuracy of 95%. This model correctly predicted whether a post was in r/nfl 97% of the time, and r/nba 93%.\n",
    "\n",
    "The most important words for the model in classifying a post from r/nba, again, referenced free agency moves like \"westbrook\", \"kawhi\", \"lebron\", but weighted more related terms like \"trade\" and \"pick\" as important. The most important words in classfying a post from r/nfl were slightly different from the TF-IDF model, with \"day\" having the highest count, and more generalized terms like \"round\" and \"pass\" being important in predicting r/nfl posts."
   ]
  },
  {
   "cell_type": "code",
   "execution_count": 39,
   "metadata": {},
   "outputs": [],
   "source": [
    "# use the parameters found in the gridsearch\n",
    "cvec = CountVectorizer(stop_words='english', ngram_range=(1, 2), max_features=20000, max_df=0.60)"
   ]
  },
  {
   "cell_type": "code",
   "execution_count": 40,
   "metadata": {
    "scrolled": true
   },
   "outputs": [],
   "source": [
    "# run the Count Vectorized model with the optimal hyperparameters\n",
    "cvec = CountVectorizer(stop_words='english', ngram_range=(1, 2), max_features=20000, max_df=0.60)\n",
    "train_raw = cvec.fit_transform(X_train)\n",
    "train_df = pd.SparseDataFrame(train_raw, columns=cvec.get_feature_names())\n",
    "\n",
    "test_raw = cvec.transform(X_test)\n",
    "test_df = pd.SparseDataFrame(test_raw, columns=cvec.get_feature_names())\n",
    "\n",
    "train_df.fillna(0, inplace=True)\n",
    "test_df.fillna(0, inplace=True)\n",
    "\n",
    "# fit the multinomail NB model\n",
    "cvec_nb = MultinomialNB()\n",
    "cvec_nb.fit(train_df, y_train)"
   ]
  },
  {
   "cell_type": "code",
   "execution_count": 41,
   "metadata": {
    "scrolled": false
   },
   "outputs": [
    {
     "data": {
      "text/plain": [
       "MultinomialNB(alpha=1.0, class_prior=None, fit_prior=True)"
      ]
     },
     "execution_count": 41,
     "metadata": {},
     "output_type": "execute_result"
    }
   ],
   "source": [
    "cvec_nb = MultinomialNB()\n",
    "cvec_nb.fit(train_df, y_train)"
   ]
  },
  {
   "cell_type": "code",
   "execution_count": 42,
   "metadata": {},
   "outputs": [
    {
     "data": {
      "text/plain": [
       "0.9532710280373832"
      ]
     },
     "execution_count": 42,
     "metadata": {},
     "output_type": "execute_result"
    }
   ],
   "source": [
    "# score \n",
    "cvec_nb.score(test_raw, y_test)"
   ]
  },
  {
   "cell_type": "code",
   "execution_count": 43,
   "metadata": {},
   "outputs": [],
   "source": [
    "# create dataframes for plotting NB results\n",
    "# note that exponential is taken from the log probability to get the actual probability for each feature\n",
    "nb_feat_importance_nfl = pd.DataFrame(np.exp(cvec_nb.feature_log_prob_[0]), train_df.columns, columns=['probability'])\n",
    "nb_feat_importance_nba = pd.DataFrame(np.exp(cvec_nb.feature_log_prob_[1]), train_df.columns, columns=['probability'])"
   ]
  },
  {
   "cell_type": "code",
   "execution_count": 48,
   "metadata": {
    "scrolled": false
   },
   "outputs": [
    {
     "data": {
      "image/png": "[encoded data removed]",
      "text/plain": [
       "<Figure size 1440x720 with 1 Axes>"
      ]
     },
     "metadata": {
      "needs_background": "light"
     },
     "output_type": "display_data"
    }
   ],
   "source": [
    "# plot the results from the NB dataframes\n",
    "plt.figure(figsize=(20,10))\n",
    "nfl = nb_feat_importance_nfl.sort_values('probability', ascending=False).head(10)\n",
    "nba = nb_feat_importance_nba.sort_values('probability', ascending=False).head(10)\n",
    "\n",
    "plt.barh(nfl.index, nfl['probability'], color='darkblue')\n",
    "plt.barh(nba.index, nba['probability'], color='darkorange')\n",
    "plt.yticks(size=16)\n",
    "\n",
    "plt.title('Top 10 Features: r/NFL vs. r/NBA', fontsize=30)\n",
    "plt.xlabel('Probability', fontsize=20)\n",
    "plt.ylabel('Feature', fontsize=20);"
   ]
  },
  {
   "cell_type": "code",
   "execution_count": 45,
   "metadata": {
    "scrolled": true
   },
   "outputs": [
    {
     "name": "stdout",
     "output_type": "stream",
     "text": [
      "Important words in classifying posts for r/nfl\n",
      "r/nfl 0.005242842953593929 day\n",
      "r/nfl 0.003356928222085322 yards\n",
      "r/nfl 0.0027157172133723956 patriots\n",
      "r/nfl 0.0024013980914542937 bowl\n",
      "r/nfl 0.002263097677810329 round\n",
      "r/nfl 0.002250524912933605 football\n",
      "r/nfl 0.0022379521480568806 super\n",
      "r/nfl 0.0022128066183034318 pass\n",
      "r/nfl 0.0021122244992896402 bears\n",
      "r/nfl 0.002099651734412917 day day\n",
      "r/nfl 0.0020242151451525725 play\n",
      "r/nfl 0.001961351320768952 league\n",
      "r/nfl 0.0019362057910155045 super bowl\n",
      "r/nfl 0.0019362057910155045 amp\n",
      "r/nfl 0.0019236330261387792 td\n",
      "r/nfl 0.001885914731508607 yard\n",
      "r/nfl 0.001885914731508607 good\n",
      "r/nfl 0.0018607692017551588 pick\n",
      "r/nfl 0.0018481964368784348 browns\n",
      "r/nfl 0.0018230509071249868 best\n",
      " \n",
      " \n",
      "Important words in classifying posts for r/nba\n",
      "r/nba 0.0034196483512049483 trade\n",
      "r/nba 0.003308686310310395 westbrook\n",
      "r/nba 0.003106937145047563 kawhi\n",
      "r/nba 0.002854750688469029 clippers\n",
      "r/nba 0.0027437886475744737 league\n",
      "r/nba 0.0025924767736273517 lebron\n",
      "r/nba 0.0024512523579433704 lakers\n",
      "r/nba 0.0023503777753119555 think\n",
      "r/nba 0.002289853025733108 okc\n",
      "r/nba 0.0022293282761542584 pick\n",
      "r/nba 0.0020679289439439964 round\n",
      "r/nba 0.00195696690304944 amp\n",
      "r/nba 0.0019267045282600158 good\n",
      "r/nba 0.0019065296117337332 play\n",
      "r/nba 0.0018762672369443093 free\n",
      "r/nba 0.0018661797786811663 going\n",
      "r/nba 0.0017955675708391768 paul\n",
      "r/nba 0.0017653051960497533 russell\n",
      "r/nba 0.0017653051960497533 best\n",
      "r/nba 0.0017148679047340458 make\n"
     ]
    }
   ],
   "source": [
    "nb_features(cvec, cvec_nb, class_labels=['r/nfl', 'r/nba'])"
   ]
  },
  {
   "cell_type": "code",
   "execution_count": 46,
   "metadata": {},
   "outputs": [],
   "source": [
    "nb_counts_nfl = pd.DataFrame(cvec_nb.feature_count_[0], train_df.columns, columns=['weighted_count'])\n",
    "nb_counts_nba = pd.DataFrame(cvec_nb.feature_count_[1], train_df.columns, columns=['weighted_count'])"
   ]
  },
  {
   "cell_type": "code",
   "execution_count": 47,
   "metadata": {
    "scrolled": false
   },
   "outputs": [
    {
     "name": "stdout",
     "output_type": "stream",
     "text": [
      "       pred_r/nfl  pred_r/nba\n",
      "r/nfl         413          34\n",
      "r/nba          11         505\n",
      "--------------------------------------------------------------------------------\n",
      "              precision    recall  f1-score   support\n",
      "\n",
      "           0       0.97      0.92      0.95       447\n",
      "           1       0.94      0.98      0.96       516\n",
      "\n",
      "    accuracy                           0.95       963\n",
      "   macro avg       0.96      0.95      0.95       963\n",
      "weighted avg       0.95      0.95      0.95       963\n",
      "\n"
     ]
    }
   ],
   "source": [
    "# run confusion matrix function\n",
    "make_cm(cvec_nb, test_raw, y_test, ['r/nfl', 'r/nba'])"
   ]
  },
  {
   "cell_type": "markdown",
   "metadata": {},
   "source": [
    "## Support Vector Machine Classifier\n",
    "---\n",
    "\n",
    "In this section I run a TF-IDF Vectorizor and the Support Vector Machine Classifier on the data collected from r/nba and r/nfl. This model did not score as highly as the Multinomial NB models, but still performed very well, posting an accuracy score of 93.14% and a weighted accuracy of 93%.\n",
    "\n",
    "The important features selected by this model were similar to the NB classifiers, but tended to weight proper nouns like player names, team names, and even journalists, higher. However, obvious terms like \"basketball\" and \"football\" were weighted heavily as well."
   ]
  },
  {
   "cell_type": "code",
   "execution_count": 49,
   "metadata": {},
   "outputs": [],
   "source": [
    "# train/test split our data\n",
    "X = reddit['text']\n",
    "y = reddit['is_nba']\n",
    "\n",
    "X_train, X_test, y_train, y_test = train_test_split(X, y, stratify=y, random_state=42)"
   ]
  },
  {
   "cell_type": "code",
   "execution_count": 50,
   "metadata": {},
   "outputs": [],
   "source": [
    "# instantiate TF-IDF and SVC pipeline\n",
    "svm_pipe = Pipeline([\n",
    "    ('tfidf', TfidfVectorizer()),\n",
    "    ('svc', SVC(kernel='linear', gamma='auto'))\n",
    "])"
   ]
  },
  {
   "cell_type": "code",
   "execution_count": 51,
   "metadata": {},
   "outputs": [],
   "source": [
    "# define parameter grid for SVC model\n",
    "svm_params = {\n",
    "    'tfidf__max_features': [2000, 5000, 10000, 20000],\n",
    "    'tfidf__ngram_range': [(1,1), (1,2)],\n",
    "    'tfidf__stop_words': [None, 'english'],\n",
    "    'tfidf__max_df': [.60, .75, .90],\n",
    "    'svc__C': [0.1, 1, 10, 100]\n",
    "}"
   ]
  },
  {
   "cell_type": "code",
   "execution_count": 52,
   "metadata": {
    "scrolled": true
   },
   "outputs": [
    {
     "data": {
      "text/plain": [
       "{'svc__C': 1,\n",
       " 'tfidf__max_df': 0.6,\n",
       " 'tfidf__max_features': 20000,\n",
       " 'tfidf__ngram_range': (1, 1),\n",
       " 'tfidf__stop_words': 'english'}"
      ]
     },
     "execution_count": 52,
     "metadata": {},
     "output_type": "execute_result"
    }
   ],
   "source": [
    "# griseach through hyperparameters for SVC model\n",
    "svm_gs = GridSearchCV(svm_pipe, param_grid=svm_params, cv=3, n_jobs=-1)\n",
    "svm_gs.fit(X_train, y_train)\n",
    "\n",
    "# display best hyperparameters\n",
    "svm_gs.best_params_"
   ]
  },
  {
   "cell_type": "code",
   "execution_count": 53,
   "metadata": {
    "scrolled": true
   },
   "outputs": [
    {
     "data": {
      "text/plain": [
       "0.9975744975744976"
      ]
     },
     "execution_count": 53,
     "metadata": {},
     "output_type": "execute_result"
    }
   ],
   "source": [
    "# check score from training data\n",
    "svm_gs.best_estimator_.score(X_train, y_train)"
   ]
  },
  {
   "cell_type": "code",
   "execution_count": 54,
   "metadata": {
    "scrolled": true
   },
   "outputs": [
    {
     "data": {
      "text/plain": [
       "0.9314641744548287"
      ]
     },
     "execution_count": 54,
     "metadata": {},
     "output_type": "execute_result"
    }
   ],
   "source": [
    "# check score from predictions on testing data\n",
    "y_pred_class = svm_gs.best_estimator_.predict(X_test)\n",
    "metrics.accuracy_score(y_test, y_pred_class)"
   ]
  },
  {
   "cell_type": "code",
   "execution_count": 55,
   "metadata": {
    "scrolled": false
   },
   "outputs": [
    {
     "data": {
      "text/plain": [
       "SVC(C=1, cache_size=200, class_weight=None, coef0=0.0,\n",
       "    decision_function_shape='ovr', degree=3, gamma='auto', kernel='linear',\n",
       "    max_iter=-1, probability=True, random_state=None, shrinking=True, tol=0.001,\n",
       "    verbose=False)"
      ]
     },
     "execution_count": 55,
     "metadata": {},
     "output_type": "execute_result"
    }
   ],
   "source": [
    "# fit tf-idf svc model for best hyperparameters\n",
    "tfidf = TfidfVectorizer(max_features=20000, ngram_range=(1, 1), stop_words='english', max_df=.6)\n",
    "train_raw = tfidf.fit_transform(X_train)\n",
    "test_raw = tfidf.transform(X_test)\n",
    "\n",
    "svc = SVC(C = 1, kernel='linear', gamma = 'auto', probability=True)\n",
    "svc.fit(train_raw, y_train)"
   ]
  },
  {
   "cell_type": "code",
   "execution_count": 66,
   "metadata": {},
   "outputs": [],
   "source": [
    "# define function to plot coefficients for the svc classifier\n",
    "def plot_coefficients(classifier, feature_names, top_features=20):\n",
    "    # get sparse array of coefficients, convert to numpy array, get values for index '0'\n",
    "    # as this is a binary classification, index 0 contains all the coefficients used in the svc classifier\n",
    "    coef = classifier.coef_.toarray()[0]\n",
    "    \n",
    "    # find the best and worst coefficients for the positive class\n",
    "    top_positive_coefficients = np.argsort(coef)[-top_features:]\n",
    "    top_negative_coefficients = np.argsort(coef)[:top_features]\n",
    "    \n",
    "    # stack coefficients in a single array for plotting\n",
    "    top_coefficients = np.hstack([top_negative_coefficients, top_positive_coefficients])\n",
    "    \n",
    "    # create plot\n",
    "    plt.figure(figsize=(16, 8))\n",
    "    \n",
    "    # create a list of colors to map to the bars for positive and negative coefficients\n",
    "    colors = ['darkorange' if c < 0 else 'darkblue' for c in coef[top_coefficients]]\n",
    "    \n",
    "    # plot coefficients\n",
    "    plt.bar(np.arange(2 * top_features), coef[top_coefficients], color=colors)\n",
    "    \n",
    "    # create ticks on x axis from feature names\n",
    "    feature_names = np.array(feature_names)\n",
    "    plt.xticks(np.arange(2 * top_features), feature_names[top_coefficients], rotation=70, ha='right', size=14)\n",
    "    \n",
    "    # set plot attributes\n",
    "    plt.title('Top 20 Features from Each Class', fontsize=30)\n",
    "    plt.ylabel('Weighted Coefficient', fontsize=20)\n",
    "    plt.xlabel('Feature', fontsize=20);\n",
    "    plt.show()\n",
    "    \n",
    "    # credit to Aneesa Bhakaria for the basis for this code to plot SVC coefficients\n",
    "    # https://medium.com/@aneesha/visualising-top-features-in-linear-svm-with-scikit-learn-and-matplotlib-3454ab18a14d"
   ]
  },
  {
   "cell_type": "code",
   "execution_count": 67,
   "metadata": {
    "scrolled": false
   },
   "outputs": [
    {
     "data": {
      "image/png": "[encoded data removed]",
      "text/plain": [
       "<Figure size 1152x576 with 1 Axes>"
      ]
     },
     "metadata": {
      "needs_background": "light"
     },
     "output_type": "display_data"
    }
   ],
   "source": [
    "# plot svc model for r/nfl and r/nba\n",
    "plot_coefficients(svc, tfidf.get_feature_names())"
   ]
  },
  {
   "cell_type": "code",
   "execution_count": 60,
   "metadata": {
    "scrolled": false
   },
   "outputs": [
    {
     "name": "stdout",
     "output_type": "stream",
     "text": [
      "       pred_r/nfl  pred_r/nba\n",
      "r/nfl         408          39\n",
      "r/nba          27         489\n",
      "--------------------------------------------------------------------------------\n",
      "              precision    recall  f1-score   support\n",
      "\n",
      "           0       0.94      0.91      0.93       447\n",
      "           1       0.93      0.95      0.94       516\n",
      "\n",
      "    accuracy                           0.93       963\n",
      "   macro avg       0.93      0.93      0.93       963\n",
      "weighted avg       0.93      0.93      0.93       963\n",
      "\n"
     ]
    }
   ],
   "source": [
    "# print confusion matrix\n",
    "make_cm(svc, test_raw, y_test, ['r/nfl', 'r/nba'])"
   ]
  },
  {
   "cell_type": "code",
   "execution_count": 61,
   "metadata": {},
   "outputs": [
    {
     "name": "stdout",
     "output_type": "stream",
     "text": [
      "Confusion matrix, without normalization\n",
      "[[408  39]\n",
      " [ 27 489]]\n"
     ]
    },
    {
     "data": {
      "image/png": "[encoded data removed]",
      "text/plain": [
       "<Figure size 432x288 with 2 Axes>"
      ]
     },
     "metadata": {
      "needs_background": "light"
     },
     "output_type": "display_data"
    }
   ],
   "source": [
    "#define class names\n",
    "class_names=np.array(['r/NFL', 'r/NBA'])\n",
    "\n",
    "# generate predictions\n",
    "y_pred = svc.predict(test_raw)\n",
    "\n",
    "# Plot non-normalized confusion matrix\n",
    "plot_confusion_matrix(y_test, y_pred, classes=class_names,\n",
    "                      title='Confusion matrix, without normalization',\n",
    "                     cmap='YlGnBu')\n",
    "\n",
    "\n",
    "plt.show();"
   ]
  },
  {
   "cell_type": "markdown",
   "metadata": {},
   "source": [
    "## Support Vector Machine Classifier: r/nba vs. r/CollegeBasketball\n",
    "---\n",
    "\n",
    "In this section I run a TF-IDF Vectorizor and the Support Vector Machine Classifier on the data collected from r/nba and r/collegebasketball. Given the relative imporantance of sport specific terms like \"basketball\" and \"dunk\" in the presious SVM model, I wanted to classify posts from subreddits that follow the same sport: r/nba and r/collegebasktball. This model performed well, posting an accuracy score of 91.39% and a weighted accuracy of 91%.\n",
    "\n",
    "Like the SVM classifier for r/nba and r/nfl, this model tended to weight proper nouns like player names and team names high. Terms like \"tournament\", \"transfer\", and \"commit\" were given importance in r/collegebasktball as they used more widely those discussions than for r/nba, but instead of players, we find the names of coaches like \"calipari\" to be weighted heavily. Some interesting differentiators were \"basketball\" and \"gif\" which could fall within either subreddit, but were weighted heavily toward r/CollegeBasketball."
   ]
  },
  {
   "cell_type": "code",
   "execution_count": 62,
   "metadata": {},
   "outputs": [],
   "source": [
    "# train/test split our data\n",
    "X = reddit_bb['text']\n",
    "y = reddit_bb['is_nba']\n",
    "\n",
    "X_train, X_test, y_train, y_test = train_test_split(X, y, stratify=y, random_state=42)"
   ]
  },
  {
   "cell_type": "code",
   "execution_count": null,
   "metadata": {},
   "outputs": [],
   "source": [
    "# instatiate pipeline with tfidf and svc\n",
    "svm_pipe = Pipeline([\n",
    "    ('tfidf', TfidfVectorizer()),\n",
    "    ('svc', SVC(C = 1, kernel='linear', gamma = 'auto'))\n",
    "])"
   ]
  },
  {
   "cell_type": "code",
   "execution_count": null,
   "metadata": {},
   "outputs": [],
   "source": [
    "# instantiate paramter grid for grisearch\n",
    "svm_params = {\n",
    "    'tfidf__max_features': [2000, 5000, 10000, 20000],\n",
    "    'tfidf__ngram_range': [(1,1), (1,2)],\n",
    "    'tfidf__max_df': [.60, .75, .90],\n",
    "    'tfidf__stop_words': [None, 'english']\n",
    "}"
   ]
  },
  {
   "cell_type": "code",
   "execution_count": null,
   "metadata": {
    "scrolled": false
   },
   "outputs": [],
   "source": [
    "# griseach through hyperparameters for SVC model\n",
    "svm_gs = GridSearchCV(svm_pipe, param_grid=svm_params, cv=3, n_jobs=4)\n",
    "svm_gs.fit(X_train, y_train)\n",
    "\n",
    "# display best hyperparameters\n",
    "svm_gs.best_params_"
   ]
  },
  {
   "cell_type": "code",
   "execution_count": null,
   "metadata": {},
   "outputs": [],
   "source": [
    "# check score from training data\n",
    "svm_gs.best_estimator_.score(X_train, y_train)"
   ]
  },
  {
   "cell_type": "code",
   "execution_count": null,
   "metadata": {
    "scrolled": true
   },
   "outputs": [],
   "source": [
    "# check score from predictions on testing data\n",
    "y_pred_class = svm_gs.best_estimator_.predict(X_test)\n",
    "metrics.accuracy_score(y_test, y_pred_class)"
   ]
  },
  {
   "cell_type": "code",
   "execution_count": 63,
   "metadata": {
    "scrolled": false
   },
   "outputs": [
    {
     "data": {
      "text/plain": [
       "SVC(C=1, cache_size=200, class_weight=None, coef0=0.0,\n",
       "    decision_function_shape='ovr', degree=3, gamma='auto', kernel='linear',\n",
       "    max_iter=-1, probability=False, random_state=None, shrinking=True,\n",
       "    tol=0.001, verbose=False)"
      ]
     },
     "execution_count": 63,
     "metadata": {},
     "output_type": "execute_result"
    }
   ],
   "source": [
    "# fit tf-idf svc model for best hyperparameters\n",
    "tfidf = TfidfVectorizer(max_features=10000, ngram_range=(1, 1), stop_words='english', max_df=.6)\n",
    "train_raw = tfidf.fit_transform(X_train)\n",
    "test_raw = tfidf.transform(X_test)\n",
    "\n",
    "svc = SVC(C = 1, kernel='linear', gamma = 'auto')\n",
    "svc.fit(train_raw, y_train)"
   ]
  },
  {
   "cell_type": "code",
   "execution_count": 68,
   "metadata": {
    "scrolled": false
   },
   "outputs": [
    {
     "data": {
      "image/png": "[encoded data removed]",
      "text/plain": [
       "<Figure size 1152x576 with 1 Axes>"
      ]
     },
     "metadata": {
      "needs_background": "light"
     },
     "output_type": "display_data"
    }
   ],
   "source": [
    "# plot svc model for r/nfl and r/nba\n",
    "plot_coefficients(svc, tfidf.get_feature_names())"
   ]
  },
  {
   "cell_type": "code",
   "execution_count": 65,
   "metadata": {},
   "outputs": [
    {
     "name": "stdout",
     "output_type": "stream",
     "text": [
      "                     pred_r/CollegeBasketball  pred_r/nba\n",
      "r/CollegeBasketball                       426          45\n",
      "r/nba                                      40         476\n",
      "--------------------------------------------------------------------------------\n",
      "              precision    recall  f1-score   support\n",
      "\n",
      "           0       0.91      0.90      0.91       471\n",
      "           1       0.91      0.92      0.92       516\n",
      "\n",
      "    accuracy                           0.91       987\n",
      "   macro avg       0.91      0.91      0.91       987\n",
      "weighted avg       0.91      0.91      0.91       987\n",
      "\n"
     ]
    }
   ],
   "source": [
    "# generate confusion matrix and classification report\n",
    "make_cm(svc, test_raw, y_test, ['r/CollegeBasketball', 'r/nba'])"
   ]
  },
  {
   "cell_type": "markdown",
   "metadata": {},
   "source": [
    "## Support Vector Machine Classifier: r/nfl vs. r/cfb\n",
    "---\n",
    "\n",
    "In this section I run a TF-IDF Vectorizor and the Support Vector Machine Classifier on the data collected from r/nfl and r/cfb, the NCAA Football Subreddit. This model performed well, posting an accuracy score of 92.43% and a weighted accuracy of 93%.\n",
    "\n",
    "Like both SVM classifiers before, this model weighted proper nouns high, but in the case of r/cfb, there were very little in terms of players or coaches names. Related terms like \"commits\", \"star\", and \"conference\" were given importance in r/cfb.  Like r/CollegeBasketball, common words like \"basketball\" and \"tweet\"  were weighted heavily toward r/cfb."
   ]
  },
  {
   "cell_type": "code",
   "execution_count": null,
   "metadata": {},
   "outputs": [],
   "source": [
    "# train/test split our data\n",
    "X = reddit_fb['text']\n",
    "y = reddit_fb['is_nfl']\n",
    "\n",
    "X_train, X_test, y_train, y_test = train_test_split(X, y, stratify=y, random_state=42)"
   ]
  },
  {
   "cell_type": "code",
   "execution_count": null,
   "metadata": {},
   "outputs": [],
   "source": [
    "# set up our pipeline for tf-idf and svc\n",
    "svm_pipe = Pipeline([\n",
    "    ('tfidf', TfidfVectorizer()),\n",
    "    ('svc', SVC(C = 1, kernel='linear', gamma = 'auto'))\n",
    "])"
   ]
  },
  {
   "cell_type": "code",
   "execution_count": null,
   "metadata": {},
   "outputs": [],
   "source": [
    "# establish gridsearch parameters\n",
    "svm_params = {\n",
    "    'tfidf__max_features': [2000, 5000, 10000, 20000],\n",
    "    'tfidf__ngram_range': [(1,1), (1,2)],\n",
    "    'tfidf__max_df': [.60, .75, .90],\n",
    "    'tfidf__stop_words': [None, 'english']\n",
    "}"
   ]
  },
  {
   "cell_type": "code",
   "execution_count": null,
   "metadata": {
    "scrolled": false
   },
   "outputs": [],
   "source": [
    "# run grisearch for tfidf and svc\n",
    "svm_gs = GridSearchCV(svm_pipe, param_grid=svm_params, cv=3, n_jobs=4)\n",
    "svm_gs.fit(X_train, y_train)\n",
    "\n",
    "# display best hyperparameters\n",
    "svm_gs.best_params_"
   ]
  },
  {
   "cell_type": "code",
   "execution_count": null,
   "metadata": {},
   "outputs": [],
   "source": [
    "# check score from training data\n",
    "svm_gs.best_estimator_.score(X_train, y_train)"
   ]
  },
  {
   "cell_type": "code",
   "execution_count": null,
   "metadata": {
    "scrolled": true
   },
   "outputs": [],
   "source": [
    "# check score from predictions on testing data\n",
    "y_pred_class = svm_gs.best_estimator_.predict(X_test)\n",
    "metrics.accuracy_score(y_test, y_pred_class)"
   ]
  },
  {
   "cell_type": "code",
   "execution_count": null,
   "metadata": {
    "scrolled": false
   },
   "outputs": [],
   "source": [
    "# fit tfidf and svc from best hyperparameters\n",
    "tfidf = TfidfVectorizer(max_features=10000, ngram_range=(1, 2), stop_words='english', max_df=.60)\n",
    "train_raw = tfidf.fit_transform(X_train)\n",
    "test_raw = tfidf.transform(X_test)\n",
    "\n",
    "svc = SVC(C = 1, kernel='linear', gamma = 'auto')\n",
    "svc.fit(train_raw, y_train)"
   ]
  },
  {
   "cell_type": "code",
   "execution_count": null,
   "metadata": {
    "scrolled": false
   },
   "outputs": [],
   "source": [
    "# plot svc model for r/nfl and r/nba\n",
    "plot_coefficients(svc, tfidf.get_feature_names())"
   ]
  },
  {
   "cell_type": "code",
   "execution_count": null,
   "metadata": {},
   "outputs": [],
   "source": [
    "# generate confusion matrix and classification matrix\n",
    "make_cm(svc, test_raw, y_test, ['r/cfb', 'r/nfl'])"
   ]
  }
 ],
 "metadata": {
  "kernelspec": {
   "display_name": "Python [conda env:dsi]",
   "language": "python",
   "name": "conda-env-dsi-py"
  },
  "language_info": {
   "codemirror_mode": {
    "name": "ipython",
    "version": 3
   },
   "file_extension": ".py",
   "mimetype": "text/x-python",
   "name": "python",
   "nbconvert_exporter": "python",
   "pygments_lexer": "ipython3",
   "version": "3.7.3"
  }
 },
 "nbformat": 4,
 "nbformat_minor": 2
}
